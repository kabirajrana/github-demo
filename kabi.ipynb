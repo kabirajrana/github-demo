{
 "cells": [
  {
   "cell_type": "code",
   "execution_count": null,
   "id": "2c6dbf38",
   "metadata": {
    "vscode": {
     "languageId": "plaintext"
    }
   },
   "outputs": [],
   "source": [
    "# this how you have to do it"
   ]
  }
 ],
 "metadata": {
  "language_info": {
   "name": "python"
  }
 },
 "nbformat": 4,
 "nbformat_minor": 5
}
