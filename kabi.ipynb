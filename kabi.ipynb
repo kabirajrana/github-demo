{
 "cells": [
  {
   "cell_type": "code",
   "execution_count": null,
   "id": "2c6dbf38",
   "metadata": {},
   "outputs": [],
   "source": [
    "# this how you have to do it"
   ]
  },
  {
   "cell_type": "code",
   "execution_count": 1,
   "id": "2b3d0594",
   "metadata": {},
   "outputs": [],
   "source": [
    "import seaborn as sns\n",
    "import matplotlib.pyplot as plt"
   ]
  },
  {
   "cell_type": "code",
   "execution_count": null,
   "id": "8717ad9b",
   "metadata": {},
   "outputs": [],
   "source": []
  }
 ],
 "metadata": {
  "kernelspec": {
   "display_name": "base",
   "language": "python",
   "name": "python3"
  },
  "language_info": {
   "codemirror_mode": {
    "name": "ipython",
    "version": 3
   },
   "file_extension": ".py",
   "mimetype": "text/x-python",
   "name": "python",
   "nbconvert_exporter": "python",
   "pygments_lexer": "ipython3",
   "version": "3.12.7"
  }
 },
 "nbformat": 4,
 "nbformat_minor": 5
}
